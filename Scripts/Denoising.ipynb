{
 "cells": [
  {
   "cell_type": "code",
   "execution_count": 29,
   "id": "bottom-sunglasses",
   "metadata": {},
   "outputs": [],
   "source": [
    "from skimage.restoration import (denoise_tv_chambolle, denoise_bilateral,\n",
    "                                 denoise_wavelet, estimate_sigma)\n",
    "import nibabel as nib"
   ]
  },
  {
   "cell_type": "code",
   "execution_count": 30,
   "id": "instant-magnet",
   "metadata": {},
   "outputs": [],
   "source": [
    "file = '/Users/noeedc/Documents/Stage2021/data_new/HIE_baby_021/MEDI_results/results_readme/iMag.nii'\n",
    "mag = nib.load(file)\n",
    "data = mag.get_fdata()"
   ]
  },
  {
   "cell_type": "code",
   "execution_count": 38,
   "metadata": {},
   "outputs": [],
   "source": [
    "sigma_est = estimate_sigma(mag_denoise, average_sigmas=True)\n",
    "mag_denoise = denoise_tv_chambolle(data, weight=round(sigma_est, 2))"
   ]
  },
  {
   "cell_type": "code",
   "execution_count": 39,
   "metadata": {},
   "outputs": [],
   "source": [
    "mag.header['descrip'] = \"Magnitude filtre avec TV chambolle weight=0.2\"\n",
    "nifti_denoise = nib.Nifti1Image(mag_denoise, mag.affine, header = mag.header)\n",
    "nib.save(nifti_denoise, '/Users/noeedc/Documents/Stage2021/data_new/HIE_baby_021/MEDI_results/results_readme/iMag_filt_TV_sigma.nii')"
   ]
  },
  {
   "cell_type": "code",
   "execution_count": null,
   "metadata": {},
   "outputs": [],
   "source": []
  }
 ],
 "metadata": {
  "kernelspec": {
   "name": "myenv",
   "display_name": "Python 3.6.12 64-bit ('GBM8378': conda)"
  },
  "language_info": {
   "codemirror_mode": {
    "name": "ipython",
    "version": 3
   },
   "file_extension": ".py",
   "mimetype": "text/x-python",
   "name": "python",
   "nbconvert_exporter": "python",
   "pygments_lexer": "ipython3",
   "version": "3.6.12"
  }
 },
 "nbformat": 4,
 "nbformat_minor": 5
}